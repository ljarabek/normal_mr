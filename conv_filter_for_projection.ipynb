{
 "cells": [
  {
   "cell_type": "code",
   "execution_count": 1,
   "metadata": {},
   "outputs": [],
   "source": [
    "import tensorflow as tf\n",
    "from trainingUtils import save, load\n",
    "from layers import AdaIN\n",
    "import scipy.io as sio\n",
    "import numpy as np\n",
    "import os\n",
    "from preprocessing import DataStream\n",
    "import matplotlib.pyplot as plt\n",
    "from init_weights import encoder_weights, decoder_weights\n",
    "from tqdm import tqdm\n",
    "from Model import Model\n",
    "%matplotlib inline"
   ]
  },
  {
   "cell_type": "code",
   "execution_count": 2,
   "metadata": {},
   "outputs": [
    {
     "name": "stdout",
     "output_type": "stream",
     "text": [
      "(192, 224, 1)\n"
     ]
    }
   ],
   "source": [
    "print(DataStream.readNib(\"../healthy-axis2-slice100/002a07ab7120c861a1a2372c34013fc8c4ec65ae3b0e74571fde0ed3/t1w.nii.gz\").shape)"
   ]
  },
  {
   "cell_type": "code",
   "execution_count": 3,
   "metadata": {},
   "outputs": [],
   "source": [
    "a = np.zeros(shape = (3,3), dtype = np.float32)"
   ]
  },
  {
   "cell_type": "code",
   "execution_count": 4,
   "metadata": {},
   "outputs": [],
   "source": [
    "a[1,1] = 1"
   ]
  },
  {
   "cell_type": "code",
   "execution_count": 5,
   "metadata": {},
   "outputs": [
    {
     "data": {
      "text/plain": [
       "array([[0., 0., 0.],\n",
       "       [0., 1., 0.],\n",
       "       [0., 0., 0.]], dtype=float32)"
      ]
     },
     "execution_count": 5,
     "metadata": {},
     "output_type": "execute_result"
    }
   ],
   "source": [
    "a"
   ]
  },
  {
   "cell_type": "code",
   "execution_count": 6,
   "metadata": {},
   "outputs": [
    {
     "data": {
      "text/plain": [
       "(3, 3, 16, 12)"
      ]
     },
     "execution_count": 6,
     "metadata": {},
     "output_type": "execute_result"
    }
   ],
   "source": [
    "b = np.transpose(np.tile(a, (12,16,1,1)))\n",
    "b.shape"
   ]
  },
  {
   "cell_type": "code",
   "execution_count": 7,
   "metadata": {
    "scrolled": true
   },
   "outputs": [],
   "source": [
    "weights = sio.loadmat(\"weights.mat\")"
   ]
  },
  {
   "cell_type": "code",
   "execution_count": null,
   "metadata": {},
   "outputs": [],
   "source": []
  },
  {
   "cell_type": "code",
   "execution_count": 8,
   "metadata": {},
   "outputs": [
    {
     "name": "stdout",
     "output_type": "stream",
     "text": [
      "1 1 3 3\n",
      "(3, 3, 3, 3)\n",
      "3 3 3 64\n",
      "(3, 3, 3, 64)\n",
      "3 3 64 64\n",
      "(3, 3, 64, 64)\n",
      "3 3 64 128\n",
      "(3, 3, 64, 128)\n",
      "3 3 128 128\n",
      "(3, 3, 128, 128)\n",
      "3 3 128 256\n",
      "(3, 3, 128, 256)\n",
      "3 3 256 256\n",
      "(3, 3, 256, 256)\n",
      "3 3 256 256\n",
      "(3, 3, 256, 256)\n",
      "3 3 256 256\n",
      "(3, 3, 256, 256)\n",
      "3 3 256 512\n",
      "(3, 3, 256, 512)\n",
      "3 3 512 512\n",
      "(3, 3, 512, 512)\n",
      "3 3 512 512\n",
      "(3, 3, 512, 512)\n",
      "3 3 512 512\n",
      "(3, 3, 512, 512)\n",
      "3 3 512 512\n",
      "(3, 3, 512, 512)\n",
      "3 3 512 512\n",
      "(3, 3, 512, 512)\n",
      "3 3 512 512\n",
      "(3, 3, 512, 512)\n",
      "3 3 512 512\n",
      "(3, 3, 512, 512)\n",
      "3 3 512 256\n",
      "(3, 3, 512, 256)\n",
      "3 3 256 256\n",
      "(3, 3, 256, 256)\n",
      "3 3 256 256\n",
      "(3, 3, 256, 256)\n",
      "3 3 256 256\n",
      "(3, 3, 256, 256)\n",
      "3 3 256 128\n",
      "(3, 3, 256, 128)\n",
      "3 3 128 128\n",
      "(3, 3, 128, 128)\n",
      "3 3 128 64\n",
      "(3, 3, 128, 64)\n",
      "3 3 64 64\n",
      "(3, 3, 64, 64)\n",
      "3 3 64 3\n",
      "(3, 3, 64, 3)\n",
      "3 3 512 256\n",
      "(3, 3, 512, 256)\n",
      "3 3 256 256\n",
      "(3, 3, 256, 256)\n",
      "3 3 256 256\n",
      "(3, 3, 256, 256)\n",
      "3 3 256 256\n",
      "(3, 3, 256, 256)\n",
      "3 3 256 128\n",
      "(3, 3, 256, 128)\n",
      "3 3 128 128\n",
      "(3, 3, 128, 128)\n",
      "3 3 128 64\n",
      "(3, 3, 128, 64)\n",
      "3 3 64 64\n",
      "(3, 3, 64, 64)\n",
      "3 3 64 3\n",
      "(3, 3, 64, 3)\n"
     ]
    }
   ],
   "source": [
    "newdict = {}\n",
    "for id_w in weights:\n",
    "    if \"conv_\" and not \"b\" in id_w:\n",
    "        shape = np.array(weights[id_w]).shape\n",
    "        if len(shape)==4:\n",
    "            h,w,i,o = shape\n",
    "            print(h,w,i,o)\n",
    "            print(np.transpose(np.tile(a,(o,i,1,1))).shape)\n",
    "            newdict[id_w]=np.transpose(np.tile(a,(o,i,1,1)))\n",
    "            #newdict[w] = np.transpose(np.tile(a,(o,i,w,h)))\n",
    "            #print(shape ,w)\n",
    "    \n"
   ]
  },
  {
   "cell_type": "code",
   "execution_count": 11,
   "metadata": {},
   "outputs": [
    {
     "name": "stdout",
     "output_type": "stream",
     "text": [
      "./tf-AdaIN-master/vgg_normalised.t7/conv2d_0\n",
      "[[0. 0. 0.]\n",
      " [0. 1. 0.]\n",
      " [0. 0. 0.]]\n",
      "./tf-AdaIN-master/vgg_normalised.t7/conv2d_2\n",
      "[[0. 0. 0.]\n",
      " [0. 1. 0.]\n",
      " [0. 0. 0.]]\n",
      "./tf-AdaIN-master/vgg_normalised.t7/conv2d_5\n",
      "[[0. 0. 0.]\n",
      " [0. 1. 0.]\n",
      " [0. 0. 0.]]\n",
      "./tf-AdaIN-master/vgg_normalised.t7/conv2d_9\n",
      "[[0. 0. 0.]\n",
      " [0. 1. 0.]\n",
      " [0. 0. 0.]]\n",
      "./tf-AdaIN-master/vgg_normalised.t7/conv2d_12\n",
      "[[0. 0. 0.]\n",
      " [0. 1. 0.]\n",
      " [0. 0. 0.]]\n",
      "./tf-AdaIN-master/vgg_normalised.t7/conv2d_16\n",
      "[[0. 0. 0.]\n",
      " [0. 1. 0.]\n",
      " [0. 0. 0.]]\n",
      "./tf-AdaIN-master/vgg_normalised.t7/conv2d_19\n",
      "[[0. 0. 0.]\n",
      " [0. 1. 0.]\n",
      " [0. 0. 0.]]\n",
      "./tf-AdaIN-master/vgg_normalised.t7/conv2d_22\n",
      "[[0. 0. 0.]\n",
      " [0. 1. 0.]\n",
      " [0. 0. 0.]]\n",
      "./tf-AdaIN-master/vgg_normalised.t7/conv2d_25\n",
      "[[0. 0. 0.]\n",
      " [0. 1. 0.]\n",
      " [0. 0. 0.]]\n",
      "./tf-AdaIN-master/vgg_normalised.t7/conv2d_29\n",
      "[[0. 0. 0.]\n",
      " [0. 1. 0.]\n",
      " [0. 0. 0.]]\n",
      "./tf-AdaIN-master/vgg_normalised.t7/conv2d_32\n",
      "[[0. 0. 0.]\n",
      " [0. 1. 0.]\n",
      " [0. 0. 0.]]\n",
      "./tf-AdaIN-master/vgg_normalised.t7/conv2d_35\n",
      "[[0. 0. 0.]\n",
      " [0. 1. 0.]\n",
      " [0. 0. 0.]]\n",
      "./tf-AdaIN-master/vgg_normalised.t7/conv2d_38\n",
      "[[0. 0. 0.]\n",
      " [0. 1. 0.]\n",
      " [0. 0. 0.]]\n",
      "./tf-AdaIN-master/vgg_normalised.t7/conv2d_42\n",
      "[[0. 0. 0.]\n",
      " [0. 1. 0.]\n",
      " [0. 0. 0.]]\n",
      "./tf-AdaIN-master/vgg_normalised.t7/conv2d_45\n",
      "[[0. 0. 0.]\n",
      " [0. 1. 0.]\n",
      " [0. 0. 0.]]\n",
      "./tf-AdaIN-master/vgg_normalised.t7/conv2d_48\n",
      "[[0. 0. 0.]\n",
      " [0. 1. 0.]\n",
      " [0. 0. 0.]]\n",
      "./tf-AdaIN-master/vgg_normalised.t7/conv2d_51\n",
      "[[0. 0. 0.]\n",
      " [0. 1. 0.]\n",
      " [0. 0. 0.]]\n",
      "./tf-AdaIN-master/decoder.t7/conv2d_1\n",
      "[[0. 0. 0.]\n",
      " [0. 1. 0.]\n",
      " [0. 0. 0.]]\n",
      "./tf-AdaIN-master/decoder.t7/conv2d_5\n",
      "[[0. 0. 0.]\n",
      " [0. 1. 0.]\n",
      " [0. 0. 0.]]\n",
      "./tf-AdaIN-master/decoder.t7/conv2d_8\n",
      "[[0. 0. 0.]\n",
      " [0. 1. 0.]\n",
      " [0. 0. 0.]]\n",
      "./tf-AdaIN-master/decoder.t7/conv2d_11\n",
      "[[0. 0. 0.]\n",
      " [0. 1. 0.]\n",
      " [0. 0. 0.]]\n",
      "./tf-AdaIN-master/decoder.t7/conv2d_14\n",
      "[[0. 0. 0.]\n",
      " [0. 1. 0.]\n",
      " [0. 0. 0.]]\n",
      "./tf-AdaIN-master/decoder.t7/conv2d_18\n",
      "[[0. 0. 0.]\n",
      " [0. 1. 0.]\n",
      " [0. 0. 0.]]\n",
      "./tf-AdaIN-master/decoder.t7/conv2d_21\n",
      "[[0. 0. 0.]\n",
      " [0. 1. 0.]\n",
      " [0. 0. 0.]]\n",
      "./tf-AdaIN-master/decoder.t7/conv2d_25\n",
      "[[0. 0. 0.]\n",
      " [0. 1. 0.]\n",
      " [0. 0. 0.]]\n",
      "./tf-AdaIN-master/decoder.t7/conv2d_28\n",
      "[[0. 0. 0.]\n",
      " [0. 1. 0.]\n",
      " [0. 0. 0.]]\n",
      "./tf-AdaIN-master/decoder-content-similar.t7/conv2d_1\n",
      "[[0. 0. 0.]\n",
      " [0. 1. 0.]\n",
      " [0. 0. 0.]]\n",
      "./tf-AdaIN-master/decoder-content-similar.t7/conv2d_5\n",
      "[[0. 0. 0.]\n",
      " [0. 1. 0.]\n",
      " [0. 0. 0.]]\n",
      "./tf-AdaIN-master/decoder-content-similar.t7/conv2d_8\n",
      "[[0. 0. 0.]\n",
      " [0. 1. 0.]\n",
      " [0. 0. 0.]]\n",
      "./tf-AdaIN-master/decoder-content-similar.t7/conv2d_11\n",
      "[[0. 0. 0.]\n",
      " [0. 1. 0.]\n",
      " [0. 0. 0.]]\n",
      "./tf-AdaIN-master/decoder-content-similar.t7/conv2d_14\n",
      "[[0. 0. 0.]\n",
      " [0. 1. 0.]\n",
      " [0. 0. 0.]]\n",
      "./tf-AdaIN-master/decoder-content-similar.t7/conv2d_18\n",
      "[[0. 0. 0.]\n",
      " [0. 1. 0.]\n",
      " [0. 0. 0.]]\n",
      "./tf-AdaIN-master/decoder-content-similar.t7/conv2d_21\n",
      "[[0. 0. 0.]\n",
      " [0. 1. 0.]\n",
      " [0. 0. 0.]]\n",
      "./tf-AdaIN-master/decoder-content-similar.t7/conv2d_25\n",
      "[[0. 0. 0.]\n",
      " [0. 1. 0.]\n",
      " [0. 0. 0.]]\n",
      "./tf-AdaIN-master/decoder-content-similar.t7/conv2d_28\n",
      "[[0. 0. 0.]\n",
      " [0. 1. 0.]\n",
      " [0. 0. 0.]]\n"
     ]
    }
   ],
   "source": [
    "for w in newdict:\n",
    "    print(w)\n",
    "    print(newdict[w][:,:,1,1])"
   ]
  },
  {
   "cell_type": "code",
   "execution_count": 13,
   "metadata": {},
   "outputs": [],
   "source": [
    "sio.savemat(\"project_mask.mat\", newdict)"
   ]
  },
  {
   "cell_type": "code",
   "execution_count": null,
   "metadata": {},
   "outputs": [],
   "source": []
  }
 ],
 "metadata": {
  "kernelspec": {
   "display_name": "Python 3",
   "language": "python",
   "name": "python3"
  },
  "language_info": {
   "codemirror_mode": {
    "name": "ipython",
    "version": 3
   },
   "file_extension": ".py",
   "mimetype": "text/x-python",
   "name": "python",
   "nbconvert_exporter": "python",
   "pygments_lexer": "ipython3",
   "version": "3.6.7"
  }
 },
 "nbformat": 4,
 "nbformat_minor": 2
}
